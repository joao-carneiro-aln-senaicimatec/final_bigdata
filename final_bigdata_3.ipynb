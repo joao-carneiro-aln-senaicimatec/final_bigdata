{
  "cells": [
    {
      "cell_type": "markdown",
      "source": [
        "# Trabalho Final Nb. 3 - Fundamentos de Big Data"
      ],
      "metadata": {
        "id": "LYCUjAwmw7F3"
      },
      "id": "LYCUjAwmw7F3"
    },
    {
      "cell_type": "markdown",
      "source": [
        "CIMATEC 2025.05\n",
        "\n",
        "Gustavo Campos\n",
        "\n",
        "João Carneiro\n",
        "\n",
        "Uziel Araújo"
      ],
      "metadata": {
        "id": "PEt_6eblu7wJ"
      },
      "id": "PEt_6eblu7wJ"
    },
    {
      "cell_type": "markdown",
      "source": [
        "## Inicialização"
      ],
      "metadata": {
        "id": "uAWtBMx6yZGt"
      },
      "id": "uAWtBMx6yZGt"
    },
    {
      "cell_type": "code",
      "execution_count": 68,
      "id": "6e661d5b-db5e-48d1-9d6c-3e1e62e8e24a",
      "metadata": {
        "id": "6e661d5b-db5e-48d1-9d6c-3e1e62e8e24a"
      },
      "outputs": [],
      "source": [
        "# Importa bibliotecas\n",
        "import pyspark.sql.functions as F\n",
        "from pyspark.sql import SparkSession"
      ]
    },
    {
      "cell_type": "code",
      "execution_count": 69,
      "metadata": {
        "id": "QnA8o9D18ulV"
      },
      "outputs": [],
      "source": [
        "# Inicia sessao spark\n",
        "sc = SparkSession.builder.appName(\"SparkSQL\") \\\n",
        "  .config(\"spark.jars.packages\", \"mysql:mysql-connector-java:8.0.29\") \\\n",
        "  .getOrCreate()"
      ],
      "id": "QnA8o9D18ulV"
    },
    {
      "cell_type": "markdown",
      "source": [
        "## Carregamento"
      ],
      "metadata": {
        "id": "rV8yRc4s_3cT"
      },
      "id": "rV8yRc4s_3cT"
    },
    {
      "cell_type": "code",
      "source": [
        "# Monta google drive para acesso ao dataset 'notafiscal.csv'\n",
        "from google.colab import drive\n",
        "drive.mount('/content/drive')"
      ],
      "metadata": {
        "colab": {
          "base_uri": "https://localhost:8080/"
        },
        "id": "7e-e44QF-pyP",
        "outputId": "08023416-32aa-425c-d58a-edcbc6a65e8a"
      },
      "id": "7e-e44QF-pyP",
      "execution_count": 70,
      "outputs": [
        {
          "output_type": "stream",
          "name": "stdout",
          "text": [
            "Drive already mounted at /content/drive; to attempt to forcibly remount, call drive.mount(\"/content/drive\", force_remount=True).\n"
          ]
        }
      ]
    },
    {
      "cell_type": "code",
      "source": [
        "# Carrega dados salvos na raiz do drive em dataframe spark\n",
        "path = \"/content/drive/MyDrive/\"\n",
        "df = sc.read.csv(path + 'notafiscal.csv', inferSchema=True, header=True)"
      ],
      "metadata": {
        "id": "FTrhpUTMtVH7"
      },
      "execution_count": 71,
      "outputs": [],
      "id": "FTrhpUTMtVH7"
    },
    {
      "cell_type": "markdown",
      "source": [
        "## Seleção"
      ],
      "metadata": {
        "id": "SaNvFYj9K1XP"
      },
      "id": "SaNvFYj9K1XP"
    },
    {
      "cell_type": "code",
      "source": [
        "# Cria, salva e visualiza amostra da tabela de vendas\n",
        "df_venda = df.select(\n",
        "    'id_venda',\n",
        "    'dtc_venda',\n",
        "    'cod_cliente',\n",
        "    'cod_cidade',\n",
        "    'cod_produto',\n",
        "    'cod_gerencia',\n",
        "    'num_nota',\n",
        "    'qtd_venda',\n",
        "    'val_venda',\n",
        ").distinct()\n",
        "\n",
        "df_venda.toPandas().to_csv(path + 'notafiscal_venda.csv', index=False)\n",
        "\n",
        "df_venda.show(5)"
      ],
      "metadata": {
        "colab": {
          "base_uri": "https://localhost:8080/"
        },
        "id": "PKt7dbiyLrc2",
        "outputId": "a721096a-08d3-4599-c194-4bb96eb1f5ca"
      },
      "id": "PKt7dbiyLrc2",
      "execution_count": 72,
      "outputs": [
        {
          "output_type": "stream",
          "name": "stdout",
          "text": [
            "+--------+----------+-----------+----------+-----------+------------+--------+---------+---------+\n",
            "|id_venda| dtc_venda|cod_cliente|cod_cidade|cod_produto|cod_gerencia|num_nota|qtd_venda|val_venda|\n",
            "+--------+----------+-----------+----------+-----------+------------+--------+---------+---------+\n",
            "|       9|2021-02-09|          6|         2|         20|           1|     416|        2|    350.0|\n",
            "|     464|2021-10-21|          6|         1|          6|           1|    1007|        2|    550.0|\n",
            "|     505|2021-12-23|          3|         5|         13|           2|     303|        1|      3.2|\n",
            "|     513|2021-08-24|          2|         2|         14|           2|     777|        2|     25.0|\n",
            "|    1179|2022-03-22|          1|         1|         11|           3|     456|        2|      0.5|\n",
            "+--------+----------+-----------+----------+-----------+------------+--------+---------+---------+\n",
            "only showing top 5 rows\n",
            "\n"
          ]
        }
      ]
    },
    {
      "cell_type": "markdown",
      "source": [
        "## Transformação"
      ],
      "metadata": {
        "id": "A1m9A1WnN8iP"
      },
      "id": "A1m9A1WnN8iP"
    },
    {
      "cell_type": "markdown",
      "source": [
        "### Vendas por Ano-Mês"
      ],
      "metadata": {
        "id": "0jWzqt6lRG33"
      },
      "id": "0jWzqt6lRG33"
    },
    {
      "cell_type": "code",
      "source": [
        "# Carrega dados de cidade e combina com vendas\n",
        "df_cidade = sc.read.csv(path + 'notafiscal_cidade.csv', inferSchema=True, header=True)\n",
        "df_vendas_mes = df_venda.join(df_cidade, 'cod_cidade')\n",
        "\n",
        "df_vendas_mes.show(5)"
      ],
      "metadata": {
        "colab": {
          "base_uri": "https://localhost:8080/"
        },
        "id": "Zbhy4pTRN7a5",
        "outputId": "15ccf8b1-c344-4632-cf3f-8f6da347f4e8"
      },
      "id": "Zbhy4pTRN7a5",
      "execution_count": 73,
      "outputs": [
        {
          "output_type": "stream",
          "name": "stdout",
          "text": [
            "+----------+--------+----------+-----------+-----------+------------+--------+---------+---------+-----------+\n",
            "|cod_cidade|id_venda| dtc_venda|cod_cliente|cod_produto|cod_gerencia|num_nota|qtd_venda|val_venda| nom_cidade|\n",
            "+----------+--------+----------+-----------+-----------+------------+--------+---------+---------+-----------+\n",
            "|         2|       9|2021-02-09|          6|         20|           1|     416|        2|    350.0|NOVA IORQUE|\n",
            "|         1|     464|2021-10-21|          6|          6|           1|    1007|        2|    550.0|   SALVADOR|\n",
            "|         5|     505|2021-12-23|          3|         13|           2|     303|        1|      3.2|  BUDAPESTE|\n",
            "|         2|     513|2021-08-24|          2|         14|           2|     777|        2|     25.0|NOVA IORQUE|\n",
            "|         1|    1179|2022-03-22|          1|         11|           3|     456|        2|      0.5|   SALVADOR|\n",
            "+----------+--------+----------+-----------+-----------+------------+--------+---------+---------+-----------+\n",
            "only showing top 5 rows\n",
            "\n"
          ]
        }
      ]
    },
    {
      "cell_type": "code",
      "source": [
        "# Carrega dados de produto e combina com vendas_mes\n",
        "df_produto = sc.read.csv(path + 'notafiscal_produto.csv', inferSchema=True, header=True)\n",
        "df_vendas_mes = df_vendas_mes.join(df_produto, 'cod_produto')\n",
        "\n",
        "df_vendas_mes.show(5)"
      ],
      "metadata": {
        "colab": {
          "base_uri": "https://localhost:8080/"
        },
        "outputId": "baf42854-2809-4884-d33a-5ed70a93a9c1",
        "id": "T601leJJUpC5"
      },
      "execution_count": 74,
      "outputs": [
        {
          "output_type": "stream",
          "name": "stdout",
          "text": [
            "+-----------+----------+--------+----------+-----------+------------+--------+---------+---------+-----------+----------------+-------------+----------------+\n",
            "|cod_produto|cod_cidade|id_venda| dtc_venda|cod_cliente|cod_gerencia|num_nota|qtd_venda|val_venda| nom_cidade|cod_departamento|  nom_produto|nom_departamento|\n",
            "+-----------+----------+--------+----------+-----------+------------+--------+---------+---------+-----------+----------------+-------------+----------------+\n",
            "|         20|         2|       9|2021-02-09|          6|           1|     416|        2|    350.0|NOVA IORQUE|               6|    Geladeira| Eletrodomestico|\n",
            "|          6|         1|     464|2021-10-21|          6|           1|    1007|        2|    550.0|   SALVADOR|               1|    Notebook |     Informática|\n",
            "|         13|         5|     505|2021-12-23|          3|           2|     303|        1|      3.2|  BUDAPESTE|               3|       Estojo|       Papelaria|\n",
            "|         14|         2|     513|2021-08-24|          2|           2|     777|        2|     25.0|NOVA IORQUE|               3|Classificador|       Papelaria|\n",
            "|         11|         1|    1179|2022-03-22|          1|           3|     456|        2|      0.5|   SALVADOR|               3|      Caneta |       Papelaria|\n",
            "+-----------+----------+--------+----------+-----------+------------+--------+---------+---------+-----------+----------------+-------------+----------------+\n",
            "only showing top 5 rows\n",
            "\n"
          ]
        }
      ],
      "id": "T601leJJUpC5"
    },
    {
      "cell_type": "code",
      "source": [
        "# Cria coluna ano_mes, val_venda_total e seleciona colunas de interesse\n",
        "df_vendas_mes = df_vendas_mes \\\n",
        "    .withColumn('ano_mes', F.date_format(F.col('dtc_venda'), \"yyyyMM\")) \\\n",
        "    .withColumn('val_venda_total', F.col('val_venda') * F.col('qtd_venda')) \\\n",
        "    .select('id_venda', 'ano_mes', 'nom_cidade', 'nom_produto', 'val_venda_total')\n",
        "\n",
        "df_vendas_mes.show(5)"
      ],
      "metadata": {
        "colab": {
          "base_uri": "https://localhost:8080/"
        },
        "id": "mOEF_tAOZmFd",
        "outputId": "f93dd1c3-8edc-42ba-f8ec-0c70d48c9db4"
      },
      "id": "mOEF_tAOZmFd",
      "execution_count": 75,
      "outputs": [
        {
          "output_type": "stream",
          "name": "stdout",
          "text": [
            "+--------+-------+-----------+-------------+---------------+\n",
            "|id_venda|ano_mes| nom_cidade|  nom_produto|val_venda_total|\n",
            "+--------+-------+-----------+-------------+---------------+\n",
            "|       9| 202102|NOVA IORQUE|    Geladeira|          700.0|\n",
            "|     464| 202110|   SALVADOR|    Notebook |         1100.0|\n",
            "|     505| 202112|  BUDAPESTE|       Estojo|            3.2|\n",
            "|     513| 202108|NOVA IORQUE|Classificador|           50.0|\n",
            "|    1179| 202203|   SALVADOR|      Caneta |            1.0|\n",
            "+--------+-------+-----------+-------------+---------------+\n",
            "only showing top 5 rows\n",
            "\n"
          ]
        }
      ]
    },
    {
      "cell_type": "code",
      "source": [
        "# Agrupa e consolida tabela para obter soma total de vendas por ano-mes\n",
        "df_vendas_mes = df_vendas_mes \\\n",
        "  .groupBy('ano_mes', 'nom_cidade', 'nom_produto') \\\n",
        "  .agg(F.round(F.sum('val_venda_total'), 2).alias('soma_val_vendas')) \\\n",
        "  .coalesce(1)\n",
        "\n",
        "df_vendas_mes.show(20)"
      ],
      "metadata": {
        "colab": {
          "base_uri": "https://localhost:8080/"
        },
        "id": "umGgJLTIgZ_0",
        "outputId": "ca38e2c4-0351-4721-fda3-362190fbf8fb"
      },
      "id": "umGgJLTIgZ_0",
      "execution_count": 76,
      "outputs": [
        {
          "output_type": "stream",
          "name": "stdout",
          "text": [
            "+-------+-----------+------------------+---------------+\n",
            "|ano_mes| nom_cidade|       nom_produto|soma_val_vendas|\n",
            "+-------+-----------+------------------+---------------+\n",
            "| 202101|      BAGDÁ|  Telefone Sem Fio|         1750.0|\n",
            "| 202107|       ROMA|  Telefone Sem Fio|         2625.0|\n",
            "| 202205|  BUDAPESTE|         Geladeira|         5250.0|\n",
            "| 202205|      BAGDÁ|              Mesa|         1600.0|\n",
            "| 202211|  BUDAPESTE|     Classificador|          125.0|\n",
            "| 202307|  BUDAPESTE|         Geladeira|         4200.0|\n",
            "| 202312|  BUDAPESTE|                TV|           50.3|\n",
            "| 202210|       ROMA|        Computador|       10629.95|\n",
            "| 202102|      BAGDÁ|          Papel A4|            4.3|\n",
            "| 202309|   SALVADOR|             Baton|          788.0|\n",
            "| 202309|   SALVADOR|          Borracha|           10.6|\n",
            "| 202105|      BAGDÁ|       Celular 4Gb|          317.4|\n",
            "| 202204|   SALVADOR|           Teclado|        2736.72|\n",
            "| 202109|   SALVADOR|      Celular  8GB|          61.25|\n",
            "| 202104|       ROMA|      Celular  8GB|           24.5|\n",
            "| 202302|  BUDAPESTE|          Papel A4|           6.45|\n",
            "| 202210|       ROMA|Barbeador Elétrico|         3225.0|\n",
            "| 202312|       ROMA|          Papel A4|           2.15|\n",
            "| 202206|NOVA IORQUE|  Telefone Sem Fio|         2625.0|\n",
            "| 202302|  BUDAPESTE|             Fogão|         4500.0|\n",
            "+-------+-----------+------------------+---------------+\n",
            "only showing top 20 rows\n",
            "\n"
          ]
        }
      ]
    },
    {
      "cell_type": "markdown",
      "source": [
        "### Vendas por Ano"
      ],
      "metadata": {
        "id": "0emyNLO5nvji"
      },
      "id": "0emyNLO5nvji"
    },
    {
      "cell_type": "code",
      "source": [
        "# Obtem a soma consolidada de vendas por ano\n",
        "df_vendas_ano = df_venda \\\n",
        "    .withColumn('ano', F.date_format(F.col('dtc_venda'), \"yyyy\")) \\\n",
        "    .withColumn('val_venda_total', F.col('val_venda') * F.col('qtd_venda')) \\\n",
        "    .join(df_produto, 'cod_produto') \\\n",
        "    .select('ano', 'nom_produto', 'val_venda_total') \\\n",
        "    .groupBy('ano', 'nom_produto') \\\n",
        "    .agg(F.round(F.sum('val_venda_total'), 2).alias('soma_val_vendas')) \\\n",
        "    .coalesce(1)\n",
        "\n",
        "df_vendas_ano.show(20)"
      ],
      "metadata": {
        "colab": {
          "base_uri": "https://localhost:8080/"
        },
        "id": "dN_8MWF0o_nA",
        "outputId": "75c49e73-6757-409a-9b23-4438bc1dc8ef"
      },
      "id": "dN_8MWF0o_nA",
      "execution_count": 77,
      "outputs": [
        {
          "output_type": "stream",
          "name": "stdout",
          "text": [
            "+----+------------------+---------------+\n",
            "| ano|       nom_produto|soma_val_vendas|\n",
            "+----+------------------+---------------+\n",
            "|2023|             Fogão|       505500.0|\n",
            "|2023|            Estojo|          953.6|\n",
            "|2023|          Papel A4|          731.0|\n",
            "|2023|              Mesa|       505600.0|\n",
            "|2022|Barbeador Elétrico|       382700.0|\n",
            "|2023|           Caneta |          150.0|\n",
            "|2023|              Sofá|        80400.0|\n",
            "|2021|         Notebook |       171050.0|\n",
            "|2023|Barbeador Elétrico|       368725.0|\n",
            "|2022|           Teclado|      113231.79|\n",
            "|2021|              Mesa|       480000.0|\n",
            "|2022|        microondas|       602700.0|\n",
            "|2021|             Baton|        31717.0|\n",
            "|2023|             Baton|        28565.0|\n",
            "|2021|           Monitor|       401700.0|\n",
            "|2023|        Computador|      648426.95|\n",
            "|2021|          Papel A4|         599.85|\n",
            "|2023|        microondas|       592200.0|\n",
            "|2021|         Geladeira|       105350.0|\n",
            "|2021|           Teclado|      113231.79|\n",
            "+----+------------------+---------------+\n",
            "only showing top 20 rows\n",
            "\n"
          ]
        }
      ]
    },
    {
      "cell_type": "markdown",
      "source": [
        "## Registro"
      ],
      "metadata": {
        "id": "iblA6hzZfavT"
      },
      "id": "iblA6hzZfavT"
    },
    {
      "cell_type": "markdown",
      "source": [
        "Salva novos dataframes no 'path' (diretório raiz do google drive)"
      ],
      "metadata": {
        "id": "tNJSBoVKhJzS"
      },
      "id": "tNJSBoVKhJzS"
    },
    {
      "cell_type": "code",
      "source": [
        "# Salva tabela vendas por ano_mes resultante como parquet\n",
        "df_vendas_mes.write.parquet(path + 'df_vendas_ano_mes.parquet', mode='overwrite')"
      ],
      "metadata": {
        "id": "VL4iI5SQ1qrV"
      },
      "id": "VL4iI5SQ1qrV",
      "execution_count": 78,
      "outputs": []
    }
  ],
  "metadata": {
    "kernelspec": {
      "display_name": "Python 3 (ipykernel)",
      "language": "python",
      "name": "python3"
    },
    "language_info": {
      "codemirror_mode": {
        "name": "ipython",
        "version": 3
      },
      "file_extension": ".py",
      "mimetype": "text/x-python",
      "name": "python",
      "nbconvert_exporter": "python",
      "pygments_lexer": "ipython3",
      "version": "3.9.7"
    },
    "colab": {
      "provenance": [],
      "toc_visible": true
    }
  },
  "nbformat": 4,
  "nbformat_minor": 5
}