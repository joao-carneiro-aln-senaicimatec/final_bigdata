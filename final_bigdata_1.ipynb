{
  "cells": [
    {
      "cell_type": "markdown",
      "source": [
        "# Trabalho Final Nb. 1 - Fundamentos de Big Data"
      ],
      "metadata": {
        "id": "LYCUjAwmw7F3"
      },
      "id": "LYCUjAwmw7F3"
    },
    {
      "cell_type": "markdown",
      "source": [
        "CIMATEC 2025.05\n",
        "\n",
        "Gustavo Campos\n",
        "\n",
        "João Carneiro\n",
        "\n",
        "Uziel Araújo"
      ],
      "metadata": {
        "id": "PEt_6eblu7wJ"
      },
      "id": "PEt_6eblu7wJ"
    },
    {
      "cell_type": "markdown",
      "source": [
        "## Inicialização"
      ],
      "metadata": {
        "id": "uAWtBMx6yZGt"
      },
      "id": "uAWtBMx6yZGt"
    },
    {
      "cell_type": "code",
      "execution_count": 16,
      "id": "6e661d5b-db5e-48d1-9d6c-3e1e62e8e24a",
      "metadata": {
        "id": "6e661d5b-db5e-48d1-9d6c-3e1e62e8e24a"
      },
      "outputs": [],
      "source": [
        "# Importa bibliotecas\n",
        "import pyspark.sql.functions as F\n",
        "from pyspark.sql import SparkSession"
      ]
    },
    {
      "cell_type": "code",
      "execution_count": 17,
      "metadata": {
        "id": "QnA8o9D18ulV"
      },
      "outputs": [],
      "source": [
        "# Inicia sessao spark\n",
        "sc = SparkSession.builder.appName(\"SparkSQL\") \\\n",
        "    .config(\"spark.jars.packages\", \"mysql:mysql-connector-java:8.0.29\") \\\n",
        "    .getOrCreate()"
      ],
      "id": "QnA8o9D18ulV"
    },
    {
      "cell_type": "markdown",
      "source": [
        "## Carregamento"
      ],
      "metadata": {
        "id": "rV8yRc4s_3cT"
      },
      "id": "rV8yRc4s_3cT"
    },
    {
      "cell_type": "code",
      "source": [
        "# Monta google drive para acesso ao dataset\n",
        "from google.colab import drive\n",
        "drive.mount('/content/drive')"
      ],
      "metadata": {
        "colab": {
          "base_uri": "https://localhost:8080/"
        },
        "id": "7e-e44QF-pyP",
        "outputId": "a8f9da91-6684-4fa6-a48a-129f145c9011"
      },
      "id": "7e-e44QF-pyP",
      "execution_count": 18,
      "outputs": [
        {
          "output_type": "stream",
          "name": "stdout",
          "text": [
            "Drive already mounted at /content/drive; to attempt to forcibly remount, call drive.mount(\"/content/drive\", force_remount=True).\n"
          ]
        }
      ]
    },
    {
      "cell_type": "code",
      "source": [
        "# Carrega como dataframe spark 'notafiscal.csv', salvo previamente na raiz do drive\n",
        "path = \"/content/drive/MyDrive/\"\n",
        "df = sc.read.csv(path + 'notafiscal.csv', inferSchema=True, header=True)"
      ],
      "metadata": {
        "id": "FTrhpUTMtVH7"
      },
      "execution_count": 19,
      "outputs": [],
      "id": "FTrhpUTMtVH7"
    },
    {
      "cell_type": "markdown",
      "source": [
        "## Visualização"
      ],
      "metadata": {
        "id": "4V1B2o38FEYW"
      },
      "id": "4V1B2o38FEYW"
    },
    {
      "cell_type": "code",
      "source": [
        "# Imprime schema e amostra de dados\n",
        "df.printSchema()\n",
        "\n",
        "df.show(10)"
      ],
      "metadata": {
        "colab": {
          "base_uri": "https://localhost:8080/"
        },
        "id": "yFlcAhtlFLlV",
        "outputId": "ebc70ad2-15c0-40ed-dd2c-12072ce6d178"
      },
      "id": "yFlcAhtlFLlV",
      "execution_count": 20,
      "outputs": [
        {
          "output_type": "stream",
          "name": "stdout",
          "text": [
            "root\n",
            " |-- id_venda: integer (nullable = true)\n",
            " |-- cod_cliente: integer (nullable = true)\n",
            " |-- nom_cliente: string (nullable = true)\n",
            " |-- cod_vendedor: integer (nullable = true)\n",
            " |-- nom_vendedor: string (nullable = true)\n",
            " |-- cod_cidade: integer (nullable = true)\n",
            " |-- nom_cidade: string (nullable = true)\n",
            " |-- cod_produto: integer (nullable = true)\n",
            " |-- Nom_produto: string (nullable = true)\n",
            " |-- cod_marca: integer (nullable = true)\n",
            " |-- Nom_marca: string (nullable = true)\n",
            " |-- cod_departamento: integer (nullable = true)\n",
            " |-- nom_departamento: string (nullable = true)\n",
            " |-- cod_gerencia: integer (nullable = true)\n",
            " |-- nom_gerencia: string (nullable = true)\n",
            " |-- dtc_venda: date (nullable = true)\n",
            " |-- qtd_venda: integer (nullable = true)\n",
            " |-- val_venda: double (nullable = true)\n",
            " |-- num_nota: integer (nullable = true)\n",
            "\n",
            "+--------+-----------+---------------+------------+---------------+----------+-----------+-----------+------------+---------+-------------+----------------+----------------+------------+-------------------+----------+---------+---------+--------+\n",
            "|id_venda|cod_cliente|    nom_cliente|cod_vendedor|   nom_vendedor|cod_cidade| nom_cidade|cod_produto| Nom_produto|cod_marca|    Nom_marca|cod_departamento|nom_departamento|cod_gerencia|       nom_gerencia| dtc_venda|qtd_venda|val_venda|num_nota|\n",
            "+--------+-----------+---------------+------------+---------------+----------+-----------+-----------+------------+---------+-------------+----------------+----------------+------------+-------------------+----------+---------+---------+--------+\n",
            "|       1|          6|Reginaldo Rossi|           5|    Maria Braga|         1|   Salvador|          4|     Monitor|        4|          IBM|               1|     Informática|           4|   Casa e Decoração|2021-05-10|        1|   1300.0|    1033|\n",
            "|       2|          5|  Edson Arantes|           3|Issac Palmeiras|         1|   Salvador|         10|    Papel A4|        8|FABER CASTELL|               3|       Papelaria|           3|  Eletro Eletrônico|2023-06-22|        1|     2.15|     812|\n",
            "|       3|          3|   Renato Russo|           5|    Maria Braga|         4|      Bagdá|         11|     Caneta |        8|FABER CASTELL|               3|       Papelaria|           1|         Tecnologia|2022-11-23|        2|      0.5|     447|\n",
            "|       4|          5|  Edson Arantes|           1|  Claudio Silva|         3|       Roma|         19|       Fogão|       13|     BRASTEMP|               6| Eletrodomestico|           2|papelaria/cosmético|2022-02-24|        1|   1500.0|     509|\n",
            "|       5|          6|Reginaldo Rossi|           9|   Diego Santos|         2|Nova Iorque|         16|     Perfume|       11|      PHILIPS|               4|       cosmético|           4|   Casa e Decoração|2023-04-27|        1|    135.0|    1337|\n",
            "|       6|          1|   João do Pulo|          11| Filipe Almeida|         3|       Roma|         11|     Caneta |        8|FABER CASTELL|               3|       Papelaria|           3|  Eletro Eletrônico|2022-04-20|        1|      0.5|    1337|\n",
            "|       7|          5|  Edson Arantes|           6|Rodrigo Machado|         4|      Bagdá|          9|Celular  8GB|        8|FABER CASTELL|               2|       Telefonia|           4|   Casa e Decoração|2022-11-16|        1|    12.25|     724|\n",
            "|       8|          5|  Edson Arantes|           3|Issac Palmeiras|         3|       Roma|         19|       Fogão|       13|     BRASTEMP|               6| Eletrodomestico|           3|  Eletro Eletrônico|2021-11-06|        2|   1500.0|     375|\n",
            "|       9|          6|Reginaldo Rossi|          12|Marilia Cardoso|         2|Nova Iorque|         20|   Geladeira|       12|    ELETROLUX|               6| Eletrodomestico|           1|         Tecnologia|2021-02-09|        2|    350.0|     416|\n",
            "|      10|          6|Reginaldo Rossi|           9|   Diego Santos|         1|   Salvador|         15|       Baton|       10|    BOTICARIO|               4|       cosmético|           2|papelaria/cosmético|2023-12-13|        1|     98.5|    1085|\n",
            "+--------+-----------+---------------+------------+---------------+----------+-----------+-----------+------------+---------+-------------+----------------+----------------+------------+-------------------+----------+---------+---------+--------+\n",
            "only showing top 10 rows\n",
            "\n"
          ]
        }
      ]
    },
    {
      "cell_type": "markdown",
      "source": [
        "## Seleção"
      ],
      "metadata": {
        "id": "SaNvFYj9K1XP"
      },
      "id": "SaNvFYj9K1XP"
    },
    {
      "cell_type": "markdown",
      "source": [
        "Separa dados em tabelas 'cliente', 'cidade', 'gerencia' e 'departamento'"
      ],
      "metadata": {
        "id": "g7NmDqW0LWgN"
      },
      "id": "g7NmDqW0LWgN"
    },
    {
      "cell_type": "code",
      "source": [
        "# Cria e visualiza amostra da tabela de clientes\n",
        "df_cliente = df.select('cod_cliente', 'nom_cliente').distinct()\n",
        "\n",
        "df_cliente.show(5)"
      ],
      "metadata": {
        "colab": {
          "base_uri": "https://localhost:8080/"
        },
        "id": "PKt7dbiyLrc2",
        "outputId": "d5b85f5f-9a7c-49a1-843a-1a980e8de147"
      },
      "id": "PKt7dbiyLrc2",
      "execution_count": 21,
      "outputs": [
        {
          "output_type": "stream",
          "name": "stdout",
          "text": [
            "+-----------+---------------+\n",
            "|cod_cliente|    nom_cliente|\n",
            "+-----------+---------------+\n",
            "|          3|   Renato Russo|\n",
            "|          5|  Edson Arantes|\n",
            "|          4|      Tom Jobim|\n",
            "|          6|Reginaldo Rossi|\n",
            "|          1|   João do Pulo|\n",
            "+-----------+---------------+\n",
            "only showing top 5 rows\n",
            "\n"
          ]
        }
      ]
    },
    {
      "cell_type": "code",
      "source": [
        "# Cria e visualiza amostra da tabela de cidades\n",
        "df_cidade = df.select('cod_cidade', 'nom_cidade').distinct()\n",
        "\n",
        "df_cidade.show(5)"
      ],
      "metadata": {
        "colab": {
          "base_uri": "https://localhost:8080/"
        },
        "outputId": "fc78dd8e-daf6-4fe7-a6d5-3e28b440d6d4",
        "id": "c09PN7pEcH7u"
      },
      "execution_count": 22,
      "outputs": [
        {
          "output_type": "stream",
          "name": "stdout",
          "text": [
            "+----------+-----------+\n",
            "|cod_cidade| nom_cidade|\n",
            "+----------+-----------+\n",
            "|         5|  Budapeste|\n",
            "|         1|   Salvador|\n",
            "|         4|      Bagdá|\n",
            "|         3|       Roma|\n",
            "|         2|Nova Iorque|\n",
            "+----------+-----------+\n",
            "\n"
          ]
        }
      ],
      "id": "c09PN7pEcH7u"
    },
    {
      "cell_type": "code",
      "source": [
        "# Cria e visualiza amostra da tabela de gerencias\n",
        "df_gerencia = df.select('cod_gerencia', 'nom_gerencia').distinct()\n",
        "\n",
        "df_gerencia.show(5)"
      ],
      "metadata": {
        "colab": {
          "base_uri": "https://localhost:8080/"
        },
        "outputId": "6744cc45-8f52-4ba8-cc9c-bce6a2b5b181",
        "id": "Ho6pynl7M3YZ"
      },
      "execution_count": 23,
      "outputs": [
        {
          "output_type": "stream",
          "name": "stdout",
          "text": [
            "+------------+-------------------+\n",
            "|cod_gerencia|       nom_gerencia|\n",
            "+------------+-------------------+\n",
            "|           3|  Eletro Eletrônico|\n",
            "|           1|         Tecnologia|\n",
            "|           4|   Casa e Decoração|\n",
            "|           2|papelaria/cosmético|\n",
            "+------------+-------------------+\n",
            "\n"
          ]
        }
      ],
      "id": "Ho6pynl7M3YZ"
    },
    {
      "cell_type": "code",
      "source": [
        "# Cria e visualiza amostra da tabela de departamentos\n",
        "df_dept = df.select('cod_departamento', 'nom_departamento').distinct()\n",
        "\n",
        "df_dept.show(5)"
      ],
      "metadata": {
        "colab": {
          "base_uri": "https://localhost:8080/"
        },
        "outputId": "f3143079-1609-42f2-cb08-63de93eff918",
        "id": "eyoaXQ1oM3sg"
      },
      "execution_count": 24,
      "outputs": [
        {
          "output_type": "stream",
          "name": "stdout",
          "text": [
            "+----------------+----------------+\n",
            "|cod_departamento|nom_departamento|\n",
            "+----------------+----------------+\n",
            "|               6| Eletrodomestico|\n",
            "|               3|       Papelaria|\n",
            "|               7|          Movéis|\n",
            "|               1|     Informática|\n",
            "|               4|       cosmético|\n",
            "+----------------+----------------+\n",
            "only showing top 5 rows\n",
            "\n"
          ]
        }
      ],
      "id": "eyoaXQ1oM3sg"
    },
    {
      "cell_type": "markdown",
      "source": [
        "## Registro"
      ],
      "metadata": {
        "id": "iblA6hzZfavT"
      },
      "id": "iblA6hzZfavT"
    },
    {
      "cell_type": "markdown",
      "source": [
        "Salva novos dataframes como csv no 'path' (diretório raiz do google drive)"
      ],
      "metadata": {
        "id": "tNJSBoVKhJzS"
      },
      "id": "tNJSBoVKhJzS"
    },
    {
      "cell_type": "code",
      "source": [
        "# Converte nomes de clientes para maiusculas\n",
        "df_cliente = df_cliente.withColumn('nom_cliente', F.upper(F.col('nom_cliente')))\n",
        "\n",
        "df_cliente.show(5)\n",
        "\n",
        "# Salva csv do dataframe de cliente\n",
        "df_cliente.toPandas().to_csv(path + 'notafiscal_cliente.csv', index=False)\n",
        "\n",
        "#df_cliente.write.format('jdbc').options(\n",
        "#  url='jdbc:mysql://localhost/bigdatadb',\n",
        "#  serverTimezone = \"UTC\",\n",
        "#  driver='com.mysql.jdbc.Driver',\n",
        "#  dbtable='cliente',\n",
        "#  user='bigdata',\n",
        "#  password='bigdata'\n",
        "#).save()"
      ],
      "metadata": {
        "colab": {
          "base_uri": "https://localhost:8080/"
        },
        "id": "KlR6TVcpiRfp",
        "outputId": "6a7079a7-a9be-405c-cbd3-d66a86724582"
      },
      "id": "KlR6TVcpiRfp",
      "execution_count": 25,
      "outputs": [
        {
          "output_type": "stream",
          "name": "stdout",
          "text": [
            "+-----------+---------------+\n",
            "|cod_cliente|    nom_cliente|\n",
            "+-----------+---------------+\n",
            "|          3|   RENATO RUSSO|\n",
            "|          5|  EDSON ARANTES|\n",
            "|          4|      TOM JOBIM|\n",
            "|          6|REGINALDO ROSSI|\n",
            "|          1|   JOÃO DO PULO|\n",
            "+-----------+---------------+\n",
            "only showing top 5 rows\n",
            "\n"
          ]
        }
      ]
    },
    {
      "cell_type": "code",
      "source": [
        "# Salva dataframe de cidade no banco mysql\n",
        "df_cidade = df_cidade.withColumn('nom_cidade', F.upper(F.col('nom_cidade')))\n",
        "\n",
        "df_cidade.show(5)\n",
        "\n",
        "# Salva csv do dataframe de cidade\n",
        "df_cidade.toPandas().to_csv(path + 'notafiscal_cidade.csv', index=False)\n",
        "\n",
        "#df_cidade.write.format('jdbc').options(\n",
        "#    url='jdbc:mysql://localhost/bigdatadb',\n",
        "#    serverTimezone = \"UTC\",\n",
        "#    driver='com.mysql.jdbc.Driver',\n",
        "#    dbtable='cidade',\n",
        "#    user='bigdata',\n",
        "#    password='bigdata'\n",
        "#).save()"
      ],
      "metadata": {
        "colab": {
          "base_uri": "https://localhost:8080/"
        },
        "id": "N2sowDhqdh8R",
        "outputId": "89aa4296-9a69-46b4-d612-2f3486843767"
      },
      "execution_count": 26,
      "outputs": [
        {
          "output_type": "stream",
          "name": "stdout",
          "text": [
            "+----------+-----------+\n",
            "|cod_cidade| nom_cidade|\n",
            "+----------+-----------+\n",
            "|         5|  BUDAPESTE|\n",
            "|         1|   SALVADOR|\n",
            "|         4|      BAGDÁ|\n",
            "|         3|       ROMA|\n",
            "|         2|NOVA IORQUE|\n",
            "+----------+-----------+\n",
            "\n"
          ]
        }
      ],
      "id": "N2sowDhqdh8R"
    },
    {
      "cell_type": "code",
      "source": [
        "# Salva dataframe de gerencia no banco mysql\n",
        "df_gerencia.toPandas().to_csv(path + 'notafiscal_gerencia.csv', index=False)\n",
        "\n",
        "#df_gerencia.write.format('jdbc').options(\n",
        "#    url='jdbc:mysql://localhost/bigdatadb',\n",
        "#    serverTimezone = \"UTC\",\n",
        "#    driver='com.mysql.jdbc.Driver',\n",
        "#    dbtable='gerencia',\n",
        "#    user='bigdata',\n",
        "#    password='bigdata'\n",
        "#).save()"
      ],
      "metadata": {
        "id": "zqCx6A3xgibR"
      },
      "id": "zqCx6A3xgibR",
      "execution_count": 27,
      "outputs": []
    },
    {
      "cell_type": "code",
      "source": [
        "# Salva csv do dataframe de departamento\n",
        "df_dept.toPandas().to_csv(path + 'notafiscal_dept.csv', index=False)\n",
        "\n",
        "#df_dept.write.format('jdbc').options(\n",
        "#    url='jdbc:mysql://localhost/bigdatadb',\n",
        "#    serverTimezone = \"UTC\",\n",
        "#    driver='com.mysql.jdbc.Driver',\n",
        "#    dbtable='departamento',\n",
        "#    user='bigdata',\n",
        "#    password='bigdata'\n",
        "#).save()"
      ],
      "metadata": {
        "id": "rDE7ehR9dbQw"
      },
      "id": "rDE7ehR9dbQw",
      "execution_count": 28,
      "outputs": []
    }
  ],
  "metadata": {
    "kernelspec": {
      "display_name": "Python 3 (ipykernel)",
      "language": "python",
      "name": "python3"
    },
    "language_info": {
      "codemirror_mode": {
        "name": "ipython",
        "version": 3
      },
      "file_extension": ".py",
      "mimetype": "text/x-python",
      "name": "python",
      "nbconvert_exporter": "python",
      "pygments_lexer": "ipython3",
      "version": "3.9.7"
    },
    "colab": {
      "provenance": [],
      "toc_visible": true
    }
  },
  "nbformat": 4,
  "nbformat_minor": 5
}