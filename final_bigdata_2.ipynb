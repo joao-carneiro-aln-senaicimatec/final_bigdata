{
  "cells": [
    {
      "cell_type": "markdown",
      "source": [
        "# Trabalho Final Nb. 2 - Fundamentos de Big Data"
      ],
      "metadata": {
        "id": "LYCUjAwmw7F3"
      },
      "id": "LYCUjAwmw7F3"
    },
    {
      "cell_type": "markdown",
      "source": [
        "CIMATEC 2025.05\n",
        "\n",
        "Gustavo Campos\n",
        "\n",
        "João Carneiro\n",
        "\n",
        "Uziel Araújo"
      ],
      "metadata": {
        "id": "PEt_6eblu7wJ"
      },
      "id": "PEt_6eblu7wJ"
    },
    {
      "cell_type": "markdown",
      "source": [
        "## Inicialização"
      ],
      "metadata": {
        "id": "uAWtBMx6yZGt"
      },
      "id": "uAWtBMx6yZGt"
    },
    {
      "cell_type": "code",
      "execution_count": 1,
      "id": "6e661d5b-db5e-48d1-9d6c-3e1e62e8e24a",
      "metadata": {
        "id": "6e661d5b-db5e-48d1-9d6c-3e1e62e8e24a"
      },
      "outputs": [],
      "source": [
        "# Importa bibliotecas\n",
        "import pyspark.sql.functions as F\n",
        "from pyspark.sql import SparkSession"
      ]
    },
    {
      "cell_type": "code",
      "execution_count": 2,
      "metadata": {
        "id": "QnA8o9D18ulV"
      },
      "outputs": [],
      "source": [
        "# Inicia sessao spark\n",
        "sc = SparkSession.builder.appName(\"SparkSQL\") \\\n",
        "    .config(\"spark.jars.packages\", \"mysql:mysql-connector-java:8.0.29\") \\\n",
        "    .getOrCreate()"
      ],
      "id": "QnA8o9D18ulV"
    },
    {
      "cell_type": "markdown",
      "source": [
        "## Carregamento"
      ],
      "metadata": {
        "id": "rV8yRc4s_3cT"
      },
      "id": "rV8yRc4s_3cT"
    },
    {
      "cell_type": "code",
      "source": [
        "# Monta google drive para acesso ao dataset 'notafiscal.csv'\n",
        "from google.colab import drive\n",
        "drive.mount('/content/drive')"
      ],
      "metadata": {
        "colab": {
          "base_uri": "https://localhost:8080/"
        },
        "id": "7e-e44QF-pyP",
        "outputId": "7772b1f1-946d-4e8c-9239-35bd70f09c31"
      },
      "id": "7e-e44QF-pyP",
      "execution_count": 3,
      "outputs": [
        {
          "output_type": "stream",
          "name": "stdout",
          "text": [
            "Mounted at /content/drive\n"
          ]
        }
      ]
    },
    {
      "cell_type": "code",
      "source": [
        "# Carrega como dataframe spark 'notafiscal.csv', salvo previamente na raiz do drive\n",
        "path = \"/content/drive/MyDrive/\"\n",
        "df = sc.read.csv(path + 'notafiscal.csv', inferSchema=True, header=True)"
      ],
      "metadata": {
        "id": "FTrhpUTMtVH7"
      },
      "execution_count": 4,
      "outputs": [],
      "id": "FTrhpUTMtVH7"
    },
    {
      "cell_type": "code",
      "source": [
        "# Carrega dados de departamento gerados no nb. 1\n",
        "df_dept = sc.read.csv(path + 'notafiscal_dept.csv', inferSchema=True, header=True)\n",
        "\n",
        "df_dept.show(5)"
      ],
      "metadata": {
        "colab": {
          "base_uri": "https://localhost:8080/"
        },
        "id": "9EjKavEKDLMV",
        "outputId": "e2a7ee37-4e65-4b67-ffb8-89fc21d101b7"
      },
      "id": "9EjKavEKDLMV",
      "execution_count": 5,
      "outputs": [
        {
          "output_type": "stream",
          "name": "stdout",
          "text": [
            "+----------------+----------------+\n",
            "|cod_departamento|nom_departamento|\n",
            "+----------------+----------------+\n",
            "|               6| Eletrodomestico|\n",
            "|               3|       Papelaria|\n",
            "|               7|          Movéis|\n",
            "|               1|     Informática|\n",
            "|               4|       cosmético|\n",
            "+----------------+----------------+\n",
            "only showing top 5 rows\n",
            "\n"
          ]
        }
      ]
    },
    {
      "cell_type": "markdown",
      "source": [
        "## Seleção"
      ],
      "metadata": {
        "id": "SaNvFYj9K1XP"
      },
      "id": "SaNvFYj9K1XP"
    },
    {
      "cell_type": "code",
      "source": [
        "# Carrega dataframe com os dados de produto\n",
        "df_produto = df.select('cod_produto', 'nom_produto', 'cod_departamento').distinct()\n",
        "\n",
        "df_produto.show(5)"
      ],
      "metadata": {
        "colab": {
          "base_uri": "https://localhost:8080/"
        },
        "id": "PKt7dbiyLrc2",
        "outputId": "9acb300c-bcd7-4d07-9c1f-5a74bcab4b5e"
      },
      "id": "PKt7dbiyLrc2",
      "execution_count": 6,
      "outputs": [
        {
          "output_type": "stream",
          "name": "stdout",
          "text": [
            "+-----------+--------------------+----------------+\n",
            "|cod_produto|         nom_produto|cod_departamento|\n",
            "+-----------+--------------------+----------------+\n",
            "|         13|              Estojo|               3|\n",
            "|          7|         Celular 4Gb|               2|\n",
            "|         17|Aparalho de Barbe...|               6|\n",
            "|          9|        Celular  8GB|               2|\n",
            "|          6|           Notebook |               1|\n",
            "+-----------+--------------------+----------------+\n",
            "only showing top 5 rows\n",
            "\n"
          ]
        }
      ]
    },
    {
      "cell_type": "markdown",
      "source": [
        "## Transformação"
      ],
      "metadata": {
        "id": "iblA6hzZfavT"
      },
      "id": "iblA6hzZfavT"
    },
    {
      "cell_type": "code",
      "source": [
        "# Combina as tabelas de produto e departamento\n",
        "df_produto_dept = df_produto.join(df_dept, 'cod_departamento')\n",
        "\n",
        "df_produto_dept.show(5)"
      ],
      "metadata": {
        "colab": {
          "base_uri": "https://localhost:8080/"
        },
        "id": "KlR6TVcpiRfp",
        "outputId": "eb6e0808-8c82-4dc9-d917-036e1df227f7"
      },
      "id": "KlR6TVcpiRfp",
      "execution_count": 7,
      "outputs": [
        {
          "output_type": "stream",
          "name": "stdout",
          "text": [
            "+----------------+-----------+--------------------+----------------+\n",
            "|cod_departamento|cod_produto|         nom_produto|nom_departamento|\n",
            "+----------------+-----------+--------------------+----------------+\n",
            "|               3|         13|              Estojo|       Papelaria|\n",
            "|               2|          7|         Celular 4Gb|       Telefonia|\n",
            "|               6|         17|Aparalho de Barbe...| Eletrodomestico|\n",
            "|               2|          9|        Celular  8GB|       Telefonia|\n",
            "|               1|          6|           Notebook |     Informática|\n",
            "+----------------+-----------+--------------------+----------------+\n",
            "only showing top 5 rows\n",
            "\n"
          ]
        }
      ]
    },
    {
      "cell_type": "code",
      "source": [
        "# Transforma registros alterando seus nomes de produto\n",
        "df_produto_dept = df_produto_dept.withColumn(\n",
        "    'nom_produto',\n",
        "    F.when(\n",
        "        df_produto_dept.nom_produto == \"Aparalho de Barbear Elétrico\",\n",
        "        \"Barbeador Elétrico\"\n",
        "    ).otherwise(df_produto_dept.nom_produto)\n",
        ")\n",
        "\n",
        "df_produto_dept.show(5)"
      ],
      "metadata": {
        "colab": {
          "base_uri": "https://localhost:8080/"
        },
        "id": "I7EKsCVrE0lm",
        "outputId": "4df4f954-0af1-442b-8939-b28540896c21"
      },
      "id": "I7EKsCVrE0lm",
      "execution_count": 8,
      "outputs": [
        {
          "output_type": "stream",
          "name": "stdout",
          "text": [
            "+----------------+-----------+------------------+----------------+\n",
            "|cod_departamento|cod_produto|       nom_produto|nom_departamento|\n",
            "+----------------+-----------+------------------+----------------+\n",
            "|               3|         13|            Estojo|       Papelaria|\n",
            "|               2|          7|       Celular 4Gb|       Telefonia|\n",
            "|               6|         17|Barbeador Elétrico| Eletrodomestico|\n",
            "|               2|          9|      Celular  8GB|       Telefonia|\n",
            "|               1|          6|         Notebook |     Informática|\n",
            "+----------------+-----------+------------------+----------------+\n",
            "only showing top 5 rows\n",
            "\n"
          ]
        }
      ]
    },
    {
      "cell_type": "markdown",
      "source": [
        "## Registro"
      ],
      "metadata": {
        "id": "3kRtUULnSZrn"
      },
      "id": "3kRtUULnSZrn"
    },
    {
      "cell_type": "markdown",
      "source": [
        "Salva novos dataframes como csv no 'path' (diretório raiz do google drive)"
      ],
      "metadata": {
        "id": "tNJSBoVKhJzS"
      },
      "id": "tNJSBoVKhJzS"
    },
    {
      "cell_type": "code",
      "source": [
        "# Salva csv do dataframe de departamento\n",
        "df_produto_dept.toPandas().to_csv(path + 'notafiscal_produto.csv', index=False)"
      ],
      "metadata": {
        "id": "Fm0e-G7ULUMY"
      },
      "id": "Fm0e-G7ULUMY",
      "execution_count": 9,
      "outputs": []
    }
  ],
  "metadata": {
    "kernelspec": {
      "display_name": "Python 3 (ipykernel)",
      "language": "python",
      "name": "python3"
    },
    "language_info": {
      "codemirror_mode": {
        "name": "ipython",
        "version": 3
      },
      "file_extension": ".py",
      "mimetype": "text/x-python",
      "name": "python",
      "nbconvert_exporter": "python",
      "pygments_lexer": "ipython3",
      "version": "3.9.7"
    },
    "colab": {
      "provenance": [],
      "toc_visible": true
    }
  },
  "nbformat": 4,
  "nbformat_minor": 5
}